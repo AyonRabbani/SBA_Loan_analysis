{
 "cells": [
  {
   "cell_type": "code",
   "execution_count": 3,
   "metadata": {},
   "outputs": [
    {
     "name": "stderr",
     "output_type": "stream",
     "text": [
      "/anaconda3/lib/python3.7/site-packages/IPython/core/interactiveshell.py:3020: DtypeWarning: Columns (9) have mixed types. Specify dtype option on import or set low_memory=False.\n",
      "  interactivity=interactivity, compiler=compiler, result=result)\n"
     ]
    },
    {
     "name": "stdout",
     "output_type": "stream",
     "text": [
      "   LoanNr_ChkDgt                           Name          City State    Zip  \\\n",
      "0     1000014003                 ABC HOBBYCRAFT    EVANSVILLE    IN  47711   \n",
      "1     1000024006    LANDMARK BAR & GRILLE (THE)     NEW PARIS    IN  46526   \n",
      "2     1000034009          WHITLOCK DDS, TODD M.   BLOOMINGTON    IN  47401   \n",
      "3     1000044001  BIG BUCKS PAWN & JEWELRY, LLC  BROKEN ARROW    OK  74012   \n",
      "4     1000054004    ANASTASIA CONFECTIONS, INC.       ORLANDO    FL  32801   \n",
      "\n",
      "                            Bank BankState   NAICS ApprovalDate ApprovalFY  \\\n",
      "0               FIFTH THIRD BANK        OH  451120    28-Feb-97       1997   \n",
      "1                1ST SOURCE BANK        IN  722410    28-Feb-97       1997   \n",
      "2        GRANT COUNTY STATE BANK        IN  621210    28-Feb-97       1997   \n",
      "3  1ST NATL BK & TR CO OF BROKEN        OK       0    28-Feb-97       1997   \n",
      "4        FLORIDA BUS. DEVEL CORP        FL       0    28-Feb-97       1997   \n",
      "\n",
      "   Term  NoEmp  NewExist  CreateJob  RetainedJob  FranchiseCode  UrbanRural  \\\n",
      "0    84      4       2.0          0            0              1           0   \n",
      "1    60      2       2.0          0            0              1           0   \n",
      "2   180      7       1.0          0            0              1           0   \n",
      "3    60      2       1.0          0            0              1           0   \n",
      "4   240     14       1.0          7            7              1           0   \n",
      "\n",
      "  RevLineCr LowDoc ChgOffDate DisbursementDate DisbursementGross BalanceGross  \\\n",
      "0         N      Y        NaN        28-Feb-99       $60,000.00        $0.00    \n",
      "1         N      Y        NaN        31-May-97       $40,000.00        $0.00    \n",
      "2         N      N        NaN        31-Dec-97      $287,000.00        $0.00    \n",
      "3         N      Y        NaN        30-Jun-97       $35,000.00        $0.00    \n",
      "4         N      N        NaN        14-May-97      $229,000.00        $0.00    \n",
      "\n",
      "  MIS_Status ChgOffPrinGr        GrAppv      SBA_Appv  \n",
      "0      P I F       $0.00    $60,000.00    $48,000.00   \n",
      "1      P I F       $0.00    $40,000.00    $32,000.00   \n",
      "2      P I F       $0.00   $287,000.00   $215,250.00   \n",
      "3      P I F       $0.00    $35,000.00    $28,000.00   \n",
      "4      P I F       $0.00   $229,000.00   $229,000.00   \n"
     ]
    }
   ],
   "source": [
    "import pandas as pd\n",
    "import numpy as np\n",
    "import matplotlib.pyplot as plt\n",
    "import seaborn as sns\n",
    "pd.set_option('display.max_columns', None)\n",
    "pd.set_option('display.max_rows', 5)\n",
    "\n",
    "data = pd.read_csv('SBAnational.csv', sep = ',', encoding = 'latin1')\n",
    "print(data.head())"
   ]
  },
  {
   "cell_type": "code",
   "execution_count": 4,
   "metadata": {},
   "outputs": [],
   "source": [
    "#Removing $ and , from columns\n",
    "data[['DisbursementGross', 'BalanceGross', 'ChgOffPrinGr', 'GrAppv', 'SBA_Appv']] = data[['DisbursementGross', 'BalanceGross', 'ChgOffPrinGr', 'GrAppv', 'SBA_Appv']].replace({\"\\$\" : '', ',': ''}, regex = True)\n",
    "\n",
    "#turning int columns into floats\n",
    "\n",
    "data['DisbursementGross'] = [float(i) for i in data['DisbursementGross']]\n",
    "data['BalanceGross'] = [float(i) for i in data['BalanceGross']]\n",
    "data['ChgOffPrinGr'] = [float(i) for i in data['ChgOffPrinGr']]\n",
    "data['GrAppv'] = [float(i) for i in data['GrAppv']]\n",
    "data['SBA_Appv'] = [float(i) for i in data['SBA_Appv']]\n",
    "\n",
    "#looking at only VA from the whole Dataset\n",
    "x= data.loc[data['State'] == 'VA']\n",
    "va = x.copy()\n",
    "vaDef = data.copy()\n",
    "\n",
    "#creating a Default col\n",
    "va['Default'] = np.where(va['MIS_Status'] == 'P I F', 0, 1)"
   ]
  },
  {
   "cell_type": "code",
   "execution_count": null,
   "metadata": {},
   "outputs": [],
   "source": []
  },
  {
   "cell_type": "code",
   "execution_count": 5,
   "metadata": {},
   "outputs": [],
   "source": [
    "#creating defaults dataframe\n",
    "naics_df= va.loc[(va['NAICS'] > 0 )& (va['Default'] ==1)]\n",
    "naics = [int(str(i)[:2]) for i in naics_df['NAICS']]\n",
    "defaults = pd.DataFrame(naics, naics_df['Default'].values)\n",
    "defaults = defaults.reset_index()\n",
    "defaults.columns = ['Default', 'NAICS']\n",
    "defaults = defaults.groupby('NAICS').count()\n",
    "\n",
    "#seeing total in each industry \n",
    "naics_df2= va.loc[va['NAICS'] > 0 ]\n",
    "naics2 = [int(str(i)[:2]) for i in naics_df2['NAICS']]\n",
    "\n",
    "total_industry = pd.DataFrame(naics2, naics_df2['Default'].values)\n",
    "total_industry = total_industry.reset_index()\n",
    "total_industry.columns = ['Default', 'NAICS']\n",
    "total_industry = total_industry.groupby('NAICS').count()\n"
   ]
  },
  {
   "cell_type": "code",
   "execution_count": 6,
   "metadata": {},
   "outputs": [
    {
     "name": "stdout",
     "output_type": "stream",
     "text": [
      "       Default  IndustrySize  DefaultRate\n",
      "NAICS                                    \n",
      "22           5            12     0.416667\n",
      "48         108           347     0.311239\n",
      "...        ...           ...          ...\n",
      "11           8            50     0.160000\n",
      "62          83           865     0.095954\n",
      "\n",
      "[22 rows x 3 columns]\n"
     ]
    }
   ],
   "source": [
    "#print(defaults, total_industry)\n",
    "#creating default rate percentage\n",
    "a = defaults['Default'].values \n",
    "b = total_industry['Default'].values \n",
    "\n",
    "defRate = []\n",
    "for i in range(len(a)):\n",
    "    defRate.append(a[i]/b[i])\n",
    "\n",
    "    \n",
    "defaults['IndustrySize'] = total_industry['Default']\n",
    "defaults['DefaultRate'] = defRate\n",
    "defaults =  defaults.sort_values(by='DefaultRate', ascending = False)\n",
    "print(defaults)"
   ]
  },
  {
   "cell_type": "code",
   "execution_count": 7,
   "metadata": {},
   "outputs": [
    {
     "data": {
      "text/plain": [
       "count              13,264.00\n",
       "mean              197,348.31\n",
       "                ...         \n",
       "75%               236,005.50\n",
       "max             4,869,000.00\n",
       "Name: DisbursementGross, Length: 8, dtype: float64"
      ]
     },
     "execution_count": 7,
     "metadata": {},
     "output_type": "execute_result"
    }
   ],
   "source": [
    "#next hypothesis: Bigger the totals the less the default rate \n",
    "pd.options.display.float_format = '{:20,.2f}'.format\n",
    "va['DisbursementGross'].describe()"
   ]
  },
  {
   "cell_type": "code",
   "execution_count": 8,
   "metadata": {},
   "outputs": [],
   "source": [
    "loansize = va.copy()\n",
    "#loansize['loanGroup'] = pd.cut(loansize.DisbursementGross, [35000, 98186, 236005, np.inf], labels = ['Q1', 'Q2', 'Q3'])\n"
   ]
  },
  {
   "cell_type": "code",
   "execution_count": 9,
   "metadata": {},
   "outputs": [
    {
     "name": "stdout",
     "output_type": "stream",
     "text": [
      "Small: < $35000, Medium: < $98000, Large: > $98000\n",
      "  loanGroup  Default  TotalLoan         Default Rate\n",
      "2     Small     1113       3238                 0.34\n",
      "1    Medium     1070       6710                 0.16\n",
      "0     Large      361       3316                 0.11\n"
     ]
    }
   ],
   "source": [
    "#Sorting gross loan size by groups\n",
    "loansize['loanGroup'] = np.where(loansize['DisbursementGross'] > 236005, 'Large', (np.where(loansize['DisbursementGross'] < 35000, 'Small', 'Medium')))\n",
    "grossInd = loansize[['loanGroup', 'Default']].groupby('loanGroup', as_index = False).count().copy()\n",
    "grossInd.columns = ['loanGroup', 'IndustrySize']\n",
    "#print(grossInd)\n",
    "\n",
    "#how many in each group defaulted \n",
    "sizeCompD = loansize[['loanGroup', 'Default']].groupby('loanGroup', as_index = False).apply(lambda col: col[col['Default'] == 1]).copy()\n",
    "sizeD = sizeCompD.groupby('loanGroup', as_index = False).count()\n",
    "#print(sizeCompD.groupby('loanGroup', as_index = False).count())\n",
    "\n",
    "#calculating default rate for size of loan \n",
    "sx = grossInd['IndustrySize'].values\n",
    "sd = sizeD['Default'].values\n",
    "\n",
    "sizeD['TotalLoan'] = grossInd['IndustrySize']\n",
    "\n",
    "sdrate = [ sd[i]/ sx[i] for i in range(len(sx))]\n",
    "sizeD['Default Rate'] = sdrate \n",
    "\n",
    "sizeD = sizeD.sort_values(by='Default Rate', ascending = False)\n",
    "print('Small: < $35000, Medium: < $98000, Large: > $98000')\n",
    "print(sizeD)"
   ]
  },
  {
   "cell_type": "code",
   "execution_count": 10,
   "metadata": {},
   "outputs": [
    {
     "data": {
      "text/plain": [
       "(1472, 28)"
      ]
     },
     "execution_count": 10,
     "metadata": {},
     "output_type": "execute_result"
    }
   ],
   "source": [
    "#industry analysis: Services 54\n",
    "industry_analysis = va.loc[va['NAICS'] > 0].copy()\n",
    "industry_analysis['NAICS'] = [int(str(i)[:2]) for i in industry_analysis['NAICS']]\n",
    "industry_analysis = industry_analysis.loc[industry_analysis['NAICS'] == 54]\n",
    "industry_analysis.shape"
   ]
  },
  {
   "cell_type": "code",
   "execution_count": 11,
   "metadata": {},
   "outputs": [],
   "source": [
    "del industry_analysis['ChgOffDate']\n",
    "industry_analysis = industry_analysis.dropna()"
   ]
  },
  {
   "cell_type": "code",
   "execution_count": 12,
   "metadata": {},
   "outputs": [],
   "source": [
    "#Will not run anymore\n",
    "#industry_analysis['Year'] = [int(i) for i in industry_analysis['YearAppv']]\n",
    "#del industry_analysis['YearAppv']\n",
    "\n",
    "#industry_analysis.head()"
   ]
  },
  {
   "cell_type": "code",
   "execution_count": 18,
   "metadata": {},
   "outputs": [],
   "source": [
    "industry_analysis['ApprovalFY'] = [int(i) for i in industry_analysis['ApprovalFY']]\n",
    "#if loan was given during recession years\n",
    "industry_analysis['Recession'] = np.where((industry_analysis['ApprovalFY'] > 2007) & (industry_analysis['ApprovalFY'] <= 2009), 1, 0)\n",
    "#loans with terms greater than 240 are related to real estate \n",
    "industry_analysis['RealEstate'] = np.where(industry_analysis['Term'] >= 240, 1, 0)\n",
    "#If a firm is new or an existing business \n",
    "industry_analysis['New'] = np.where(industry_analysis['NewExist'] == 2, 1, 0)"
   ]
  },
  {
   "cell_type": "code",
   "execution_count": 14,
   "metadata": {},
   "outputs": [
    {
     "data": {
      "text/html": [
       "<div>\n",
       "<style scoped>\n",
       "    .dataframe tbody tr th:only-of-type {\n",
       "        vertical-align: middle;\n",
       "    }\n",
       "\n",
       "    .dataframe tbody tr th {\n",
       "        vertical-align: top;\n",
       "    }\n",
       "\n",
       "    .dataframe thead th {\n",
       "        text-align: right;\n",
       "    }\n",
       "</style>\n",
       "<table border=\"1\" class=\"dataframe\">\n",
       "  <thead>\n",
       "    <tr style=\"text-align: right;\">\n",
       "      <th></th>\n",
       "      <th>LoanNr_ChkDgt</th>\n",
       "      <th>Name</th>\n",
       "      <th>City</th>\n",
       "      <th>State</th>\n",
       "      <th>Zip</th>\n",
       "      <th>Bank</th>\n",
       "      <th>BankState</th>\n",
       "      <th>NAICS</th>\n",
       "      <th>ApprovalDate</th>\n",
       "      <th>ApprovalFY</th>\n",
       "      <th>Term</th>\n",
       "      <th>NoEmp</th>\n",
       "      <th>NewExist</th>\n",
       "      <th>CreateJob</th>\n",
       "      <th>RetainedJob</th>\n",
       "      <th>FranchiseCode</th>\n",
       "      <th>UrbanRural</th>\n",
       "      <th>RevLineCr</th>\n",
       "      <th>LowDoc</th>\n",
       "      <th>DisbursementDate</th>\n",
       "      <th>DisbursementGross</th>\n",
       "      <th>BalanceGross</th>\n",
       "      <th>MIS_Status</th>\n",
       "      <th>ChgOffPrinGr</th>\n",
       "      <th>GrAppv</th>\n",
       "      <th>SBA_Appv</th>\n",
       "      <th>Default</th>\n",
       "      <th>Recession</th>\n",
       "      <th>RealEstate</th>\n",
       "      <th>New</th>\n",
       "    </tr>\n",
       "  </thead>\n",
       "  <tbody>\n",
       "    <tr>\n",
       "      <th>1210</th>\n",
       "      <td>1008336002</td>\n",
       "      <td>VICKY VALENTINE DESIGN</td>\n",
       "      <td>GLEN ALLEN</td>\n",
       "      <td>VA</td>\n",
       "      <td>23059</td>\n",
       "      <td>BBCN BANK</td>\n",
       "      <td>CA</td>\n",
       "      <td>54</td>\n",
       "      <td>8-Feb-06</td>\n",
       "      <td>2006</td>\n",
       "      <td>25</td>\n",
       "      <td>1</td>\n",
       "      <td>1.00</td>\n",
       "      <td>0</td>\n",
       "      <td>1</td>\n",
       "      <td>1</td>\n",
       "      <td>2</td>\n",
       "      <td>0</td>\n",
       "      <td>N</td>\n",
       "      <td>28-Feb-06</td>\n",
       "      <td>5,000.00</td>\n",
       "      <td>0.00</td>\n",
       "      <td>CHGOFF</td>\n",
       "      <td>2,657.00</td>\n",
       "      <td>5,000.00</td>\n",
       "      <td>4,250.00</td>\n",
       "      <td>1</td>\n",
       "      <td>0</td>\n",
       "      <td>0</td>\n",
       "      <td>0</td>\n",
       "    </tr>\n",
       "    <tr>\n",
       "      <th>1971</th>\n",
       "      <td>1013175000</td>\n",
       "      <td>JettNet Technical Services Inc</td>\n",
       "      <td>WOODBRIDGE</td>\n",
       "      <td>VA</td>\n",
       "      <td>22193</td>\n",
       "      <td>BANK OF AMERICA NATL ASSOC</td>\n",
       "      <td>NC</td>\n",
       "      <td>54</td>\n",
       "      <td>4-Jun-04</td>\n",
       "      <td>2004</td>\n",
       "      <td>84</td>\n",
       "      <td>4</td>\n",
       "      <td>1.00</td>\n",
       "      <td>0</td>\n",
       "      <td>0</td>\n",
       "      <td>1</td>\n",
       "      <td>2</td>\n",
       "      <td>Y</td>\n",
       "      <td>N</td>\n",
       "      <td>31-Jul-04</td>\n",
       "      <td>30,000.00</td>\n",
       "      <td>0.00</td>\n",
       "      <td>P I F</td>\n",
       "      <td>0.00</td>\n",
       "      <td>30,000.00</td>\n",
       "      <td>15,000.00</td>\n",
       "      <td>0</td>\n",
       "      <td>0</td>\n",
       "      <td>0</td>\n",
       "      <td>0</td>\n",
       "    </tr>\n",
       "    <tr>\n",
       "      <th>1977</th>\n",
       "      <td>1013225002</td>\n",
       "      <td>IT Shows, Inc.</td>\n",
       "      <td>ALEXANDRIA</td>\n",
       "      <td>VA</td>\n",
       "      <td>22312</td>\n",
       "      <td>MANUFACTURERS &amp; TRADERS TR CO</td>\n",
       "      <td>MD</td>\n",
       "      <td>54</td>\n",
       "      <td>4-Jun-04</td>\n",
       "      <td>2004</td>\n",
       "      <td>60</td>\n",
       "      <td>1</td>\n",
       "      <td>1.00</td>\n",
       "      <td>0</td>\n",
       "      <td>0</td>\n",
       "      <td>1</td>\n",
       "      <td>1</td>\n",
       "      <td>Y</td>\n",
       "      <td>N</td>\n",
       "      <td>30-Sep-05</td>\n",
       "      <td>99,600.00</td>\n",
       "      <td>0.00</td>\n",
       "      <td>P I F</td>\n",
       "      <td>0.00</td>\n",
       "      <td>50,000.00</td>\n",
       "      <td>25,000.00</td>\n",
       "      <td>0</td>\n",
       "      <td>0</td>\n",
       "      <td>0</td>\n",
       "      <td>0</td>\n",
       "    </tr>\n",
       "    <tr>\n",
       "      <th>2151</th>\n",
       "      <td>1014495004</td>\n",
       "      <td>JJ AUTOMATION, LLC</td>\n",
       "      <td>CHARLOTTESVILLE</td>\n",
       "      <td>VA</td>\n",
       "      <td>22911</td>\n",
       "      <td>BANK OF AMERICA NATL ASSOC</td>\n",
       "      <td>NC</td>\n",
       "      <td>54</td>\n",
       "      <td>14-Jun-04</td>\n",
       "      <td>2004</td>\n",
       "      <td>84</td>\n",
       "      <td>1</td>\n",
       "      <td>1.00</td>\n",
       "      <td>0</td>\n",
       "      <td>0</td>\n",
       "      <td>1</td>\n",
       "      <td>2</td>\n",
       "      <td>Y</td>\n",
       "      <td>N</td>\n",
       "      <td>30-Nov-04</td>\n",
       "      <td>30,000.00</td>\n",
       "      <td>0.00</td>\n",
       "      <td>P I F</td>\n",
       "      <td>0.00</td>\n",
       "      <td>30,000.00</td>\n",
       "      <td>15,000.00</td>\n",
       "      <td>0</td>\n",
       "      <td>0</td>\n",
       "      <td>0</td>\n",
       "      <td>0</td>\n",
       "    </tr>\n",
       "    <tr>\n",
       "      <th>2153</th>\n",
       "      <td>1014525000</td>\n",
       "      <td>Deligon Interactive</td>\n",
       "      <td>FREDERICKSBURG</td>\n",
       "      <td>VA</td>\n",
       "      <td>22407</td>\n",
       "      <td>BANK OF AMERICA NATL ASSOC</td>\n",
       "      <td>NC</td>\n",
       "      <td>54</td>\n",
       "      <td>14-Jun-04</td>\n",
       "      <td>2004</td>\n",
       "      <td>84</td>\n",
       "      <td>4</td>\n",
       "      <td>2.00</td>\n",
       "      <td>0</td>\n",
       "      <td>0</td>\n",
       "      <td>1</td>\n",
       "      <td>2</td>\n",
       "      <td>N</td>\n",
       "      <td>N</td>\n",
       "      <td>31-Oct-05</td>\n",
       "      <td>10,000.00</td>\n",
       "      <td>0.00</td>\n",
       "      <td>P I F</td>\n",
       "      <td>0.00</td>\n",
       "      <td>10,000.00</td>\n",
       "      <td>5,000.00</td>\n",
       "      <td>0</td>\n",
       "      <td>0</td>\n",
       "      <td>0</td>\n",
       "      <td>1</td>\n",
       "    </tr>\n",
       "  </tbody>\n",
       "</table>\n",
       "</div>"
      ],
      "text/plain": [
       "      LoanNr_ChkDgt                            Name             City State  \\\n",
       "1210     1008336002          VICKY VALENTINE DESIGN       GLEN ALLEN    VA   \n",
       "1971     1013175000  JettNet Technical Services Inc       WOODBRIDGE    VA   \n",
       "1977     1013225002                  IT Shows, Inc.       ALEXANDRIA    VA   \n",
       "2151     1014495004              JJ AUTOMATION, LLC  CHARLOTTESVILLE    VA   \n",
       "2153     1014525000             Deligon Interactive   FREDERICKSBURG    VA   \n",
       "\n",
       "        Zip                           Bank BankState  NAICS ApprovalDate  \\\n",
       "1210  23059                      BBCN BANK        CA     54     8-Feb-06   \n",
       "1971  22193     BANK OF AMERICA NATL ASSOC        NC     54     4-Jun-04   \n",
       "1977  22312  MANUFACTURERS & TRADERS TR CO        MD     54     4-Jun-04   \n",
       "2151  22911     BANK OF AMERICA NATL ASSOC        NC     54    14-Jun-04   \n",
       "2153  22407     BANK OF AMERICA NATL ASSOC        NC     54    14-Jun-04   \n",
       "\n",
       "      ApprovalFY  Term  NoEmp             NewExist  CreateJob  RetainedJob  \\\n",
       "1210        2006    25      1                 1.00          0            1   \n",
       "1971        2004    84      4                 1.00          0            0   \n",
       "1977        2004    60      1                 1.00          0            0   \n",
       "2151        2004    84      1                 1.00          0            0   \n",
       "2153        2004    84      4                 2.00          0            0   \n",
       "\n",
       "      FranchiseCode  UrbanRural RevLineCr LowDoc DisbursementDate  \\\n",
       "1210              1           2         0      N        28-Feb-06   \n",
       "1971              1           2         Y      N        31-Jul-04   \n",
       "1977              1           1         Y      N        30-Sep-05   \n",
       "2151              1           2         Y      N        30-Nov-04   \n",
       "2153              1           2         N      N        31-Oct-05   \n",
       "\n",
       "        DisbursementGross         BalanceGross MIS_Status  \\\n",
       "1210             5,000.00                 0.00     CHGOFF   \n",
       "1971            30,000.00                 0.00      P I F   \n",
       "1977            99,600.00                 0.00      P I F   \n",
       "2151            30,000.00                 0.00      P I F   \n",
       "2153            10,000.00                 0.00      P I F   \n",
       "\n",
       "             ChgOffPrinGr               GrAppv             SBA_Appv  Default  \\\n",
       "1210             2,657.00             5,000.00             4,250.00        1   \n",
       "1971                 0.00            30,000.00            15,000.00        0   \n",
       "1977                 0.00            50,000.00            25,000.00        0   \n",
       "2151                 0.00            30,000.00            15,000.00        0   \n",
       "2153                 0.00            10,000.00             5,000.00        0   \n",
       "\n",
       "      Recession  RealEstate  New  \n",
       "1210          0           0    0  \n",
       "1971          0           0    0  \n",
       "1977          0           0    0  \n",
       "2151          0           0    0  \n",
       "2153          0           0    1  "
      ]
     },
     "execution_count": 14,
     "metadata": {},
     "output_type": "execute_result"
    }
   ],
   "source": [
    "industry_analysis.head()"
   ]
  },
  {
   "cell_type": "code",
   "execution_count": 15,
   "metadata": {},
   "outputs": [],
   "source": [
    "from sklearn.model_selection import train_test_split\n",
    "from sklearn.linear_model import LogisticRegression\n",
    "\n",
    "ida = industry_analysis[['GrAppv', 'SBA_Appv', 'Recession', 'RealEstate', 'Default']]\n",
    "\n",
    "X = ida[['GrAppv', 'SBA_Appv', 'Recession', 'RealEstate']]\n",
    "y = ida[['Default']]\n",
    "\n",
    "X_train, x_test, Y_train, y_test = train_test_split(X, y, test_size = 0.33, random_state = 0)\n",
    "\n",
    "clf = LogisticRegression()"
   ]
  },
  {
   "cell_type": "code",
   "execution_count": 16,
   "metadata": {},
   "outputs": [
    {
     "name": "stderr",
     "output_type": "stream",
     "text": [
      "/anaconda3/lib/python3.7/site-packages/sklearn/linear_model/logistic.py:433: FutureWarning: Default solver will be changed to 'lbfgs' in 0.22. Specify a solver to silence this warning.\n",
      "  FutureWarning)\n",
      "/anaconda3/lib/python3.7/site-packages/sklearn/utils/validation.py:761: DataConversionWarning: A column-vector y was passed when a 1d array was expected. Please change the shape of y to (n_samples, ), for example using ravel().\n",
      "  y = column_or_1d(y, warn=True)\n"
     ]
    },
    {
     "data": {
      "text/plain": [
       "LogisticRegression(C=1.0, class_weight=None, dual=False, fit_intercept=True,\n",
       "          intercept_scaling=1, max_iter=100, multi_class='warn',\n",
       "          n_jobs=None, penalty='l2', random_state=None, solver='warn',\n",
       "          tol=0.0001, verbose=0, warm_start=False)"
      ]
     },
     "execution_count": 16,
     "metadata": {},
     "output_type": "execute_result"
    }
   ],
   "source": [
    "clf.fit(X_train, Y_train)"
   ]
  },
  {
   "cell_type": "code",
   "execution_count": 17,
   "metadata": {},
   "outputs": [
    {
     "data": {
      "text/plain": [
       "array([0, 0, 0, 0, 0, 0, 0, 0, 0, 0, 0, 0, 0, 0, 0, 0, 0, 0, 0, 0, 0, 0,\n",
       "       0, 0, 0, 0, 0, 0, 0, 0, 0, 0, 0, 0, 0, 0, 0, 0, 0, 0, 0, 0, 0, 0,\n",
       "       0, 0, 0, 0, 0, 0, 0, 0, 0, 0, 0, 0, 0, 0, 0, 0, 0, 0, 0, 0, 0, 0,\n",
       "       0, 0, 0, 0, 0, 0, 0, 0, 0, 0, 0, 0, 0, 0, 0, 0, 0, 0, 0, 0, 0, 0,\n",
       "       0, 0, 0, 0, 0, 0, 0, 0, 0, 0, 0, 0, 0, 0, 0, 0, 0, 0, 0, 0, 0, 0,\n",
       "       0, 0, 0, 0, 0, 0, 0, 0, 0, 0, 0, 0, 0, 0, 0, 0, 0, 0, 0, 0, 0, 0,\n",
       "       0, 0, 0, 0, 0, 0, 0, 0, 0, 0, 0, 0, 0, 0, 0, 0, 0, 0, 0, 0, 0, 0,\n",
       "       0, 0, 0, 0, 0, 0, 0, 0, 0, 0, 0, 0, 0, 0, 0, 0, 0, 0, 0, 0, 0, 0,\n",
       "       0, 0, 0, 0, 0, 0, 0, 0, 0, 0, 0, 0, 0, 0, 0, 0, 0, 0, 0, 0, 0, 0,\n",
       "       0, 0, 0, 0, 0, 0, 0, 0, 0, 0, 0, 0, 0, 0, 0, 0, 0, 0, 0, 0, 0, 0,\n",
       "       0, 0, 0, 0, 0, 0, 0, 0, 0, 0, 0, 0, 0, 0, 0, 0, 0, 0, 0, 0, 0, 0,\n",
       "       0, 0, 0, 0, 0, 0, 0, 0, 0, 0, 0, 0, 0, 0, 0, 0, 0, 0, 0, 0, 0, 0,\n",
       "       0, 0, 0, 0, 0, 0, 0, 0, 0, 0, 0, 0, 0, 0, 0, 0, 0, 0, 0, 0, 0, 0,\n",
       "       0, 0, 0, 0, 0, 0, 0, 0, 0, 0, 0, 0, 0, 0, 0, 0, 0, 0, 0, 0, 0, 0,\n",
       "       0, 0, 0, 0, 0, 0, 0, 0, 0, 0, 0, 0, 0, 0, 0, 0, 0, 0, 0, 0, 0, 0,\n",
       "       0, 0, 0, 0, 0, 0, 0, 0, 0, 0, 0, 0, 0, 0, 0, 0, 0, 0, 0, 0, 0, 0,\n",
       "       0, 0, 0, 0, 0, 0, 0, 0, 0, 0, 0, 0, 0, 0, 0, 0, 0, 0, 0, 0, 0, 0,\n",
       "       0, 0, 0, 0, 0, 0, 0, 0, 0, 0, 0, 0, 0, 0, 0, 0, 0, 0, 0, 0, 0, 0,\n",
       "       0, 0, 0, 0, 0, 0, 0, 0, 0, 0, 0, 0, 0, 0, 0, 0, 0, 0, 0, 0, 0, 0,\n",
       "       0, 0, 0, 0, 0, 0, 0, 0, 0, 0, 0, 0, 0, 0, 0, 0, 0, 0, 0, 0, 0, 0,\n",
       "       0, 0, 0, 0, 0, 0, 0, 0, 0, 0, 0, 0, 0, 0, 0, 0, 0, 0, 0, 0, 0, 0,\n",
       "       0, 0, 0, 0, 0, 0])"
      ]
     },
     "execution_count": 17,
     "metadata": {},
     "output_type": "execute_result"
    }
   ],
   "source": [
    "clf.predict(x_test)"
   ]
  },
  {
   "cell_type": "code",
   "execution_count": 21,
   "metadata": {},
   "outputs": [
    {
     "data": {
      "text/plain": [
       "0.8076923076923077"
      ]
     },
     "execution_count": 21,
     "metadata": {},
     "output_type": "execute_result"
    }
   ],
   "source": [
    "clf.score(x_test, y_test)"
   ]
  },
  {
   "cell_type": "code",
   "execution_count": null,
   "metadata": {},
   "outputs": [],
   "source": []
  }
 ],
 "metadata": {
  "kernelspec": {
   "display_name": "Python 3",
   "language": "python",
   "name": "python3"
  },
  "language_info": {
   "codemirror_mode": {
    "name": "ipython",
    "version": 3
   },
   "file_extension": ".py",
   "mimetype": "text/x-python",
   "name": "python",
   "nbconvert_exporter": "python",
   "pygments_lexer": "ipython3",
   "version": "3.7.1"
  }
 },
 "nbformat": 4,
 "nbformat_minor": 2
}
